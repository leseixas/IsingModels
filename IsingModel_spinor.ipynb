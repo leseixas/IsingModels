{
 "cells": [
  {
   "cell_type": "code",
   "execution_count": 1,
   "metadata": {},
   "outputs": [],
   "source": [
    "import numpy as np\n",
    "import matplotlib.pyplot as plt\n",
    "\n",
    "def initial_state_spinor(N):\n",
    "    \"\"\"Generate a random spin configuration for initial condition with spinors.\"\"\"\n",
    "    # Represent spins as spinors: spin-up (1, 0), spin-down (0, 1)\n",
    "    choices = [np.array([1, 0]), np.array([0, 1])]\n",
    "    state = np.random.choice([0, 1], size=(N, N))\n",
    "    spinor_state = np.array([[choices[s] for s in row] for row in state])\n",
    "    return spinor_state\n",
    "\n",
    "def spinor_interaction(spin1, spin2):\n",
    "    \"\"\"Calculate interaction for spinors, simplifying to -J for aligned spins.\"\"\"\n",
    "    # Here we mimic the classical interaction: -J if they are the same, J if not\n",
    "    if np.array_equal(spin1, spin2):\n",
    "        return -1  # Aligned spins\n",
    "    else:\n",
    "        return 1   # Anti-aligned spins\n",
    "\n",
    "def mc_move_spinor(config, beta, N, H=0):\n",
    "    \"\"\"Monte Carlo move using Metropolis algorithm for triangular lattice with spinors.\"\"\"\n",
    "    for _ in range(N*N):\n",
    "        i = np.random.randint(N)\n",
    "        j = np.random.randint(N)\n",
    "        spin = config[i, j]\n",
    "        neighbors = triangular_neighbors(i, j, N)\n",
    "        \n",
    "        cost = 0\n",
    "        for x, y in neighbors:\n",
    "            cost += spinor_interaction(spin, config[x, y])\n",
    "        # Add magnetic field effect simplified for spinors\n",
    "        cost += H * (1 if np.array_equal(spin, np.array([1, 0])) else -1)\n",
    "        \n",
    "        if cost < 0 or np.random.rand() < np.exp(-cost * beta):\n",
    "            # Flip spin\n",
    "            config[i, j] = np.array([1, 0]) if np.array_equal(spin, np.array([0, 1])) else np.array([0, 1])\n",
    "    return config\n"
   ]
  },
  {
   "cell_type": "code",
   "execution_count": 2,
   "metadata": {},
   "outputs": [],
   "source": [
    "# Reuse the functions: initial_state(N), triangular_neighbors(i, j, N), calculate_energy(config, N, H), and ising_model_triangular(N, eq_steps, mc_steps, T, H)\n",
    "# but adapt them to use initial_state_spinor and mc_move_spinor where necessary.\n",
    "\n",
    "# Example usage:\n",
    "N = 30  # Lattice size\n",
    "T = 2.26  # Temperature\n",
    "# Initialize a spinor-based state\n",
    "spinor_state = initial_state_spinor(N)\n",
    "# Adapted Monte Carlo simulation and energy calculation functions needed here\n",
    "\n",
    "# The plotting and visualization will require adaptation to represent spinors distinctly, possibly using arrows or color coding to indicate spin-up and spin-down states."
   ]
  }
 ],
 "metadata": {
  "kernelspec": {
   "display_name": "base",
   "language": "python",
   "name": "python3"
  },
  "language_info": {
   "codemirror_mode": {
    "name": "ipython",
    "version": 3
   },
   "file_extension": ".py",
   "mimetype": "text/x-python",
   "name": "python",
   "nbconvert_exporter": "python",
   "pygments_lexer": "ipython3",
   "version": "3.10.12"
  }
 },
 "nbformat": 4,
 "nbformat_minor": 2
}
