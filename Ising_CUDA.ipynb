{
 "cells": [
  {
   "cell_type": "code",
   "execution_count": null,
   "metadata": {},
   "outputs": [],
   "source": [
    "from numba import cuda\n",
    "import numpy as np\n",
    "import math\n",
    "\n",
    "@cuda.jit\n",
    "def monte_carlo_update(lattice, J, T, states):\n",
    "    \"\"\"\n",
    "    Perform Monte Carlo updates on the Ising lattice using CUDA.\n",
    "    \n",
    "    lattice: 2D lattice of spins (NxN array).\n",
    "    J: Exchange energy.\n",
    "    T: Temperature.\n",
    "    states: Random states for RNG.\n",
    "    \"\"\"\n",
    "    # Determine the position of the current thread in the grid\n",
    "    x, y = cuda.grid(2)\n",
    "    N = lattice.shape[0]\n",
    "    \n",
    "    if x < N and y < N:\n",
    "        # Calculate the sum of nearest neighbors\n",
    "        top = lattice[(x-1) % N, y]\n",
    "        bottom = lattice[(x+1) % N, y]\n",
    "        left = lattice[x, (y-1) % N]\n",
    "        right = lattice[x, (y+1) % N]\n",
    "        sum_neighbors = top + bottom + left + right\n",
    "        \n",
    "        # Calculate energy change if this spin is flipped\n",
    "        delta_E = 2 * J * lattice[x, y] * sum_neighbors\n",
    "        \n",
    "        # Metropolis criterion\n",
    "        if delta_E < 0 or math.exp(-delta_E / T) > states[x, y]:\n",
    "            lattice[x, y] *= -1\n",
    "\n",
    "def run_simulation(N, J=1.0, T=2.0, mc_steps=100):\n",
    "    # Initialize the lattice and random states\n",
    "    lattice = np.random.choice([-1, 1], size=(N, N)).astype(np.int32)\n",
    "    states = np.random.rand(N, N).astype(np.float32)\n",
    "    \n",
    "    # Copy lattice to device (GPU memory)\n",
    "    lattice_global_mem = cuda.to_device(lattice)\n",
    "    states_global_mem = cuda.to_device(states)\n",
    "    \n",
    "    # Define block and grid sizes\n",
    "    threadsperblock = (16, 16)\n",
    "    blockspergrid_x = math.ceil(lattice.shape[0] / threadsperblock[0])\n",
    "    blockspergrid_y = math.ceil(lattice.shape[1] / threadsperblock[1])\n",
    "    blockspergrid = (blockspergrid_x, blockspergrid_y)\n",
    "    \n",
    "    # Run Monte Carlo updates\n",
    "    for _ in range(mc_steps):\n",
    "        monte_carlo_update[blockspergrid, threadsperblock](lattice_global_mem, J, T, states_global_mem)\n",
    "    \n",
    "    # Copy the lattice back to host\n",
    "    lattice = lattice_global_mem.copy_to_host()\n",
    "    return lattice\n",
    "\n"
   ]
  },
  {
   "cell_type": "code",
   "execution_count": null,
   "metadata": {},
   "outputs": [],
   "source": [
    "# Example usage\n",
    "N = 32  # Lattice size\n",
    "final_lattice = run_simulation(N)"
   ]
  }
 ],
 "metadata": {
  "language_info": {
   "name": "python"
  }
 },
 "nbformat": 4,
 "nbformat_minor": 2
}
