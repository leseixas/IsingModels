{
 "cells": [
  {
   "cell_type": "code",
   "execution_count": 1,
   "metadata": {},
   "outputs": [],
   "source": [
    "import numpy as np\n",
    "import matplotlib.pyplot as plt\n",
    "\n",
    "def initial_state(N):\n",
    "    '''Generate a random spin configuration for initial condition.'''\n",
    "    state = np.random.choice([-1, 1], size=(N, N))\n",
    "    return state\n",
    "\n",
    "def triangular_neighbors(i, j, N):\n",
    "    '''Returns the indices of the six neighbors of (i, j) in a triangular lattice.'''\n",
    "    neighbors = [((i-1) % N, j), ((i+1) % N, j),  # Top and bottom\n",
    "                 (i, (j-1) % N), (i, (j+1) % N),  # Left and right\n",
    "                 ((i-1) % N, (j-1) % N), ((i+1) % N, (j+1) % N)]  # Diagonals\n",
    "    # Adjust for triangular lattice geometry\n",
    "    if i % 2 == 0:  # Even rows\n",
    "        neighbors[-1] = ((i+1) % N, (j-1) % N)  # Adjust last diagonal for even rows\n",
    "    else:  # Odd rows\n",
    "        neighbors[-2] = ((i-1) % N, (j+1) % N)  # Adjust second to last diagonal for odd rows\n",
    "    return neighbors\n",
    "\n",
    "def mc_move(config, beta, N, H):\n",
    "    '''Monte Carlo move using Metropolis algorithm for triangular lattice with magnetic field'''\n",
    "    for _ in range(N*N):\n",
    "        i = np.random.randint(N)\n",
    "        j = np.random.randint(N)\n",
    "        s =  config[i, j]\n",
    "        nb = sum(config[x, y] for x, y in triangular_neighbors(i, j, N))\n",
    "        cost = 2*s*nb + 2*H*s  # Include magnetic field in energy cost\n",
    "        if cost < 0 or np.random.rand() < np.exp(-cost*beta):\n",
    "            s *= -1\n",
    "        config[i, j] = s\n",
    "    return config\n",
    "\n",
    "def calculate_energy(config, N, H):\n",
    "    '''Energy of a given configuration for triangular lattice with magnetic field'''\n",
    "    energy = 0\n",
    "    for i in range(N):\n",
    "        for j in range(N):\n",
    "            S = config[i,j]\n",
    "            nb = sum(config[x, y] for x, y in triangular_neighbors(i, j, N))\n",
    "            energy += -nb*S\n",
    "    energy = energy / 2.  # Each pair counted twice\n",
    "    magnetic_energy = -H * np.sum(config)  # Energy due to the magnetic field\n",
    "    return energy + magnetic_energy\n",
    "\n",
    "def ising_model_triangular(N=10, eq_steps=1000, mc_steps=500, T=2.0, H=0.0):\n",
    "    '''Main Monte Carlo Simulation for triangular lattice with magnetic field'''\n",
    "    config = initial_state(N)\n",
    "    beta = 1.0/T\n",
    "    \n",
    "    for _ in range(eq_steps):  # Equilibrate\n",
    "        mc_move(config, beta, N, H)\n",
    "    \n",
    "    for _ in range(mc_steps):\n",
    "        mc_move(config, beta, N, H)\n",
    "        \n",
    "    E = calculate_energy(config, N, H)\n",
    "    return config, E\n"
   ]
  },
  {
   "cell_type": "code",
   "execution_count": 4,
   "metadata": {},
   "outputs": [
    {
     "data": {
      "image/png": "[encoded data removed]",
      "text/plain": [
       "<Figure size 640x480 with 1 Axes>"
      ]
     },
     "metadata": {},
     "output_type": "display_data"
    }
   ],
   "source": [
    "# Simulation Parameters\n",
    "N = 50  # Lattice size\n",
    "T = 2.5  # Temperature\n",
    "H = 0.05   # External magnetic field\n",
    "config, E = ising_model_triangular(N, eq_steps=1000, mc_steps=500, T=T, H=H)\n",
    "\n",
    "# Plot the final configuration\n",
    "plt.imshow(config, cmap='hot', interpolation='nearest')\n",
    "plt.title(f\"Triangular 2D Ising Model at T={T}, H={H}, Energy={E:.2f}\")\n",
    "plt.show()"
   ]
  }
 ],
 "metadata": {
  "kernelspec": {
   "display_name": "base",
   "language": "python",
   "name": "python3"
  },
  "language_info": {
   "codemirror_mode": {
    "name": "ipython",
    "version": 3
   },
   "file_extension": ".py",
   "mimetype": "text/x-python",
   "name": "python",
   "nbconvert_exporter": "python",
   "pygments_lexer": "ipython3",
   "version": "3.10.12"
  }
 },
 "nbformat": 4,
 "nbformat_minor": 2
}
