{
 "cells": [
  {
   "cell_type": "code",
   "execution_count": 25,
   "metadata": {},
   "outputs": [],
   "source": [
    "import numpy as np\n",
    "import matplotlib.pyplot as plt\n",
    "from tqdm import tqdm\n",
    "from scipy import constants\n",
    "from numba import njit\n",
    "import plotly.graph_objects as go\n",
    "\n",
    "def initial_state(N):\n",
    "    '''Generates a random spin configuration for initial condition.'''\n",
    "    state = np.random.choice([-1, 1], size=(N, N, N))\n",
    "    return state\n",
    "\n",
    "@njit\n",
    "def mc_move(config, beta):\n",
    "    '''Monte Carlo move using Metropolis algorithm '''\n",
    "    for i in range(N):\n",
    "        for j in range(N):\n",
    "            for k in range(N):\n",
    "                a = np.random.randint(0, N)\n",
    "                b = np.random.randint(0, N)\n",
    "                c = np.random.randint(0, N)\n",
    "                s =  config[a, b, c]\n",
    "                nb = config[(a+1)%N,b,c] + config[a,(b+1)%N,c] + config[a,b,(c+1)%N] + config[(a-1)%N,b,c] + config[a,(b-1)%N,c] + config[a,b,(c-1)%N]\n",
    "                cost = 2*s*nb\n",
    "                if cost < 0:\n",
    "                    s *= -1\n",
    "                elif np.random.rand() < np.exp(-cost*beta):\n",
    "                    s *= -1\n",
    "                config[a, b, c] = s\n",
    "    return config\n",
    "\n",
    "@njit\n",
    "def calculate_energy(config):\n",
    "    '''Energy of a given configuration'''\n",
    "    energy = 0\n",
    "    for i in range(len(config)):\n",
    "        for j in range(len(config)):\n",
    "            for k in range(len(config)):\n",
    "                S = config[i,j,k]\n",
    "                nb = config[(i+1)%N, j, k] + config[i,(j+1)%N, k] + config[i, j, (k+1)%N] + config[(i-1)%N, j, k] + config[i,(j-1)%N, k] + config[i, j, (k-1)%N]\n",
    "                energy += -nb*S\n",
    "    return energy/2.  # To compensate for double counting\n",
    "\n",
    "def simulate(N=10, temp=2.0, num_steps=1000):\n",
    "    ''' Main function to execute the MC simulation '''\n",
    "    config = initial_state(N)\n",
    "    beta = 1.0/(temp)\n",
    "    \n",
    "    for i in range(num_steps):\n",
    "        mc_move(config, beta)\n",
    "    \n",
    "    energy = calculate_energy(config)\n",
    "    return config, energy\n",
    "\n",
    "# def visualize_state(config):\n",
    "#     '''Visualizes the spin configuration in 3D.'''\n",
    "#     fig = plt.figure(figsize=(10, 8))\n",
    "#     ax = fig.add_subplot(111, projection='3d')\n",
    "    \n",
    "#     # Plot spins: +1 spins will be blue, -1 spins will be red\n",
    "#     for i in range(config.shape[0]):\n",
    "#         for j in range(config.shape[1]):\n",
    "#             for k in range(config.shape[2]):\n",
    "#                 if config[i, j, k] > 0:\n",
    "#                     ax.scatter(i, j, k, color='blue', marker='o')\n",
    "#                 else:\n",
    "#                     ax.scatter(i, j, k, color='red', marker='x')\n",
    "    \n",
    "#     ax.set_xlabel('X')\n",
    "#     ax.set_ylabel('Y')\n",
    "#     ax.set_zlabel('Z')\n",
    "#     plt.title('3D Ising Model Spin Configuration')\n",
    "#     plt.show()\n",
    "\n",
    "def visualize_state_plotly(config):\n",
    "    '''Visualizes the spin configuration in 3D using Plotly.'''\n",
    "    up_spins_x, up_spins_y, up_spins_z = np.where(config == 1)\n",
    "    down_spins_x, down_spins_y, down_spins_z = np.where(config == -1)\n",
    "    \n",
    "    trace_up = go.Scatter3d(\n",
    "        x=up_spins_x, y=up_spins_y, z=up_spins_z,\n",
    "        mode='markers',\n",
    "        marker=dict(\n",
    "            size=5,\n",
    "            color='blue',  # Up spins are blue\n",
    "            opacity=0.1\n",
    "        ),\n",
    "        name='Up Spins'\n",
    "    )\n",
    "    \n",
    "    trace_down = go.Scatter3d(\n",
    "        x=down_spins_x, y=down_spins_y, z=down_spins_z,\n",
    "        mode='markers',\n",
    "        marker=dict(\n",
    "            size=0,\n",
    "            color='white',  # Down spins are red\n",
    "            opacity=0.0\n",
    "        ),\n",
    "        name='Down Spins'\n",
    "    )\n",
    "    \n",
    "    layout = go.Layout(\n",
    "        margin=dict(l=0, r=0, b=0, t=0),\n",
    "        scene=dict(\n",
    "            xaxis_title='X',\n",
    "            yaxis_title='Y',\n",
    "            zaxis_title='Z'\n",
    "        )\n",
    "    )\n",
    "    \n",
    "    fig = go.Figure(data=[trace_up], layout=layout)\n",
    "    fig.show()"
   ]
  },
  {
   "cell_type": "code",
   "execution_count": 27,
   "metadata": {},
   "outputs": [
    {
     "name": "stdout",
     "output_type": "stream",
     "text": [
      "Energy: -370892.0\n"
     ]
    },
    {
     "data": {
      "application/vnd.plotly.v1+json": {
       "config": {
        "plotlyServerURL": "https://plot.ly"
       },
       "data": [
        {
         "marker": {
          "color": "blue",
          "opacity": 0.1,
          "size": 5
         },
         "mode": "markers",
         "name": "Up Spins",
         "type": "scatter3d",
         "x": [
          0,
          0,
          0,
          0,
          0,
          1,
          1,
          1,
          1,
          1,
          1,
          1,
          1,
          1,
          1,
          1,
          1,
          1,
          2,
          2,
          2,
          2,
          2,
          2,
          2,
          3,
          3,
          3,
          4,
          4,
          4,
          4,
          4,
          4,
          5,
          5,
          5,
          5,
          5,
          6,
          6,
          6,
          6,
          6,
          6,
          7,
          7,
          7,
          7,
          7,
          7,
          8,
          8,
          8,
          8,
          8,
          9,
          9,
          9,
          9,
          9,
          9,
          9,
          9,
          9,
          9,
          10,
          10,
          10,
          10,
          10,
          10,
          11,
          11,
          11,
          11,
          11,
          12,
          12,
          12,
          13,
          13,
          13,
          13,
          13,
          13,
          14,
          14,
          14,
          14,
          15,
          15,
          15,
          15,
          16,
          16,
          16,
          16,
          16,
          17,
          18,
          18,
          18,
          18,
          18,
          18,
          19,
          19,
          19,
          19,
          19,
          19,
          19,
          19,
          19,
          19,
          20,
          20,
          20,
          20,
          20,
          20,
          20,
          20,
          20,
          21,
          21,
          21,
          21,
          21,
          22,
          22,
          22,
          22,
          22,
          23,
          23,
          23,
          23,
          23,
          23,
          23,
          23,
          24,
          24,
          24,
          24,
          24,
          25,
          25,
          25,
          25,
          25,
          25,
          25,
          25,
          25,
          25,
          25,
          25,
          26,
          26,
          26,
          26,
          26,
          26,
          26,
          26,
          26,
          26,
          27,
          27,
          27,
          27,
          27,
          27,
          27,
          27,
          28,
          28,
          28,
          28,
          28,
          28,
          28,
          29,
          29,
          29,
          29,
          29,
          29,
          29,
          29,
          29,
          29,
          30,
          30,
          30,
          30,
          30,
          30,
          31,
          31,
          31,
          31,
          31,
          31,
          31,
          31,
          31,
          31,
          31,
          32,
          32,
          32,
          32,
          32,
          32,
          32,
          33,
          33,
          33,
          33,
          33,
          33,
          34,
          34,
          34,
          34,
          34,
          34,
          34,
          34,
          35,
          35,
          35,
          35,
          35,
          35,
          36,
          36,
          36,
          36,
          36,
          36,
          36,
          36,
          37,
          37,
          37,
          37,
          38,
          38,
          38,
          38,
          38,
          38,
          39,
          39,
          39,
          39,
          39,
          39,
          39,
          39,
          40,
          40,
          40,
          40,
          40,
          40,
          40,
          40,
          40,
          41,
          41,
          41,
          41,
          41,
          41,
          41,
          41,
          41,
          42,
          42,
          42,
          42,
          42,
          42,
          42,
          43,
          43,
          43,
          43,
          43,
          43,
          43,
          43,
          43,
          44,
          44,
          44,
          44,
          44,
          44,
          44,
          44,
          44,
          44,
          44,
          45,
          45,
          45,
          45,
          45,
          45,
          45,
          45,
          45,
          45,
          46,
          46,
          46,
          46,
          46,
          46,
          46,
          46,
          46,
          46,
          46,
          47,
          47,
          47,
          47,
          47,
          47,
          48,
          48,
          48,
          48,
          48,
          49,
          49,
          49,
          49,
          49,
          49,
          49
         ],
         "y": [
          4,
          10,
          10,
          26,
          41,
          1,
          9,
          12,
          19,
          29,
          31,
          32,
          34,
          35,
          36,
          41,
          44,
          47,
          4,
          20,
          34,
          35,
          38,
          44,
          47,
          11,
          44,
          47,
          4,
          9,
          21,
          31,
          34,
          42,
          1,
          3,
          20,
          22,
          31,
          1,
          6,
          7,
          10,
          23,
          35,
          21,
          21,
          25,
          32,
          34,
          40,
          14,
          14,
          21,
          42,
          49,
          3,
          11,
          27,
          28,
          30,
          31,
          34,
          38,
          39,
          45,
          10,
          24,
          28,
          31,
          37,
          41,
          5,
          5,
          7,
          40,
          40,
          8,
          14,
          31,
          9,
          28,
          32,
          34,
          35,
          42,
          36,
          38,
          44,
          46,
          4,
          20,
          40,
          45,
          21,
          26,
          35,
          47,
          49,
          6,
          0,
          26,
          28,
          30,
          44,
          47,
          0,
          2,
          2,
          10,
          11,
          17,
          17,
          33,
          34,
          47,
          10,
          16,
          19,
          22,
          26,
          36,
          39,
          48,
          49,
          8,
          28,
          33,
          42,
          44,
          3,
          8,
          16,
          20,
          35,
          1,
          27,
          29,
          31,
          34,
          42,
          46,
          46,
          0,
          16,
          18,
          28,
          37,
          6,
          6,
          8,
          17,
          18,
          21,
          22,
          27,
          36,
          43,
          44,
          46,
          0,
          3,
          13,
          13,
          21,
          24,
          33,
          39,
          40,
          40,
          4,
          14,
          19,
          21,
          28,
          31,
          34,
          36,
          4,
          11,
          12,
          25,
          28,
          31,
          43,
          4,
          8,
          11,
          12,
          18,
          19,
          19,
          31,
          36,
          49,
          1,
          1,
          12,
          19,
          36,
          43,
          0,
          0,
          7,
          9,
          9,
          10,
          12,
          19,
          20,
          31,
          42,
          7,
          8,
          13,
          18,
          27,
          31,
          49,
          0,
          20,
          35,
          46,
          48,
          48,
          11,
          23,
          27,
          33,
          40,
          46,
          48,
          49,
          1,
          4,
          16,
          29,
          32,
          38,
          1,
          3,
          8,
          10,
          37,
          40,
          43,
          47,
          2,
          10,
          15,
          23,
          12,
          13,
          18,
          20,
          29,
          38,
          1,
          1,
          9,
          16,
          20,
          30,
          36,
          48,
          10,
          18,
          24,
          30,
          31,
          35,
          37,
          45,
          49,
          6,
          9,
          12,
          16,
          17,
          26,
          30,
          30,
          30,
          8,
          14,
          17,
          24,
          32,
          39,
          49,
          6,
          8,
          19,
          24,
          25,
          26,
          40,
          43,
          48,
          3,
          6,
          7,
          8,
          13,
          15,
          16,
          27,
          29,
          35,
          43,
          5,
          5,
          6,
          6,
          14,
          20,
          22,
          29,
          33,
          48,
          0,
          11,
          11,
          16,
          21,
          27,
          32,
          35,
          36,
          48,
          48,
          9,
          16,
          19,
          28,
          31,
          34,
          11,
          20,
          26,
          30,
          31,
          9,
          26,
          26,
          27,
          35,
          42,
          49
         ],
         "z": [
          32,
          4,
          39,
          25,
          11,
          44,
          36,
          13,
          0,
          23,
          25,
          25,
          5,
          49,
          5,
          41,
          29,
          25,
          4,
          39,
          15,
          11,
          22,
          3,
          45,
          42,
          33,
          21,
          13,
          28,
          28,
          17,
          42,
          15,
          23,
          3,
          44,
          46,
          40,
          0,
          35,
          18,
          31,
          8,
          46,
          19,
          42,
          42,
          1,
          41,
          33,
          7,
          10,
          19,
          37,
          8,
          24,
          14,
          36,
          29,
          7,
          10,
          16,
          38,
          8,
          10,
          48,
          49,
          19,
          43,
          29,
          6,
          2,
          27,
          28,
          28,
          33,
          18,
          6,
          34,
          22,
          18,
          36,
          36,
          19,
          36,
          39,
          26,
          18,
          19,
          29,
          30,
          12,
          5,
          46,
          35,
          25,
          36,
          31,
          29,
          2,
          12,
          45,
          13,
          16,
          31,
          2,
          3,
          25,
          46,
          7,
          1,
          12,
          13,
          34,
          42,
          46,
          15,
          27,
          4,
          8,
          13,
          28,
          47,
          12,
          20,
          3,
          22,
          44,
          6,
          17,
          4,
          32,
          19,
          20,
          16,
          21,
          46,
          1,
          7,
          28,
          25,
          26,
          43,
          31,
          34,
          0,
          14,
          20,
          30,
          10,
          16,
          16,
          38,
          41,
          13,
          40,
          19,
          28,
          11,
          15,
          26,
          8,
          33,
          42,
          27,
          28,
          39,
          1,
          29,
          17,
          4,
          32,
          13,
          17,
          15,
          12,
          3,
          5,
          5,
          14,
          2,
          11,
          43,
          39,
          37,
          4,
          33,
          33,
          21,
          19,
          21,
          43,
          12,
          19,
          24,
          42,
          4,
          8,
          14,
          48,
          12,
          30,
          36,
          9,
          44,
          9,
          4,
          8,
          41,
          24,
          25,
          30,
          42,
          22,
          44,
          42,
          21,
          2,
          10,
          37,
          12,
          24,
          3,
          29,
          16,
          2,
          48,
          44,
          10,
          18,
          5,
          22,
          41,
          34,
          4,
          32,
          4,
          22,
          0,
          27,
          32,
          17,
          24,
          5,
          48,
          41,
          23,
          37,
          25,
          14,
          36,
          38,
          33,
          47,
          36,
          40,
          35,
          44,
          24,
          13,
          46,
          49,
          23,
          11,
          41,
          7,
          12,
          34,
          10,
          47,
          35,
          0,
          24,
          21,
          9,
          23,
          21,
          21,
          4,
          24,
          25,
          39,
          47,
          48,
          39,
          37,
          40,
          35,
          24,
          2,
          13,
          17,
          19,
          46,
          22,
          46,
          0,
          33,
          34,
          44,
          13,
          13,
          30,
          24,
          47,
          30,
          17,
          7,
          37,
          31,
          32,
          18,
          32,
          15,
          37,
          14,
          43,
          39,
          44,
          32,
          27,
          40,
          25,
          30,
          44,
          27,
          34,
          1,
          42,
          44,
          0,
          27,
          25,
          37,
          21,
          11,
          19,
          10,
          11,
          18,
          43,
          30,
          19,
          25,
          0,
          40,
          4,
          35
         ]
        }
       ],
       "layout": {
        "margin": {
         "b": 0,
         "l": 0,
         "r": 0,
         "t": 0
        },
        "scene": {
         "xaxis": {
          "title": {
           "text": "X"
          }
         },
         "yaxis": {
          "title": {
           "text": "Y"
          }
         },
         "zaxis": {
          "title": {
           "text": "Z"
          }
         }
        },
        "template": {
         "data": {
          "bar": [
           {
            "error_x": {
             "color": "#2a3f5f"
            },
            "error_y": {
             "color": "#2a3f5f"
            },
            "marker": {
             "line": {
              "color": "#E5ECF6",
              "width": 0.5
             },
             "pattern": {
              "fillmode": "overlay",
              "size": 10,
              "solidity": 0.2
             }
            },
            "type": "bar"
           }
          ],
          "barpolar": [
           {
            "marker": {
             "line": {
              "color": "#E5ECF6",
              "width": 0.5
             },
             "pattern": {
              "fillmode": "overlay",
              "size": 10,
              "solidity": 0.2
             }
            },
            "type": "barpolar"
           }
          ],
          "carpet": [
           {
            "aaxis": {
             "endlinecolor": "#2a3f5f",
             "gridcolor": "white",
             "linecolor": "white",
             "minorgridcolor": "white",
             "startlinecolor": "#2a3f5f"
            },
            "baxis": {
             "endlinecolor": "#2a3f5f",
             "gridcolor": "white",
             "linecolor": "white",
             "minorgridcolor": "white",
             "startlinecolor": "#2a3f5f"
            },
            "type": "carpet"
           }
          ],
          "choropleth": [
           {
            "colorbar": {
             "outlinewidth": 0,
             "ticks": ""
            },
            "type": "choropleth"
           }
          ],
          "contour": [
           {
            "colorbar": {
             "outlinewidth": 0,
             "ticks": ""
            },
            "colorscale": [
             [
              0,
              "#0d0887"
             ],
             [
              0.1111111111111111,
              "#46039f"
             ],
             [
              0.2222222222222222,
              "#7201a8"
             ],
             [
              0.3333333333333333,
              "#9c179e"
             ],
             [
              0.4444444444444444,
              "#bd3786"
             ],
             [
              0.5555555555555556,
              "#d8576b"
             ],
             [
              0.6666666666666666,
              "#ed7953"
             ],
             [
              0.7777777777777778,
              "#fb9f3a"
             ],
             [
              0.8888888888888888,
              "#fdca26"
             ],
             [
              1,
              "#f0f921"
             ]
            ],
            "type": "contour"
           }
          ],
          "contourcarpet": [
           {
            "colorbar": {
             "outlinewidth": 0,
             "ticks": ""
            },
            "type": "contourcarpet"
           }
          ],
          "heatmap": [
           {
            "colorbar": {
             "outlinewidth": 0,
             "ticks": ""
            },
            "colorscale": [
             [
              0,
              "#0d0887"
             ],
             [
              0.1111111111111111,
              "#46039f"
             ],
             [
              0.2222222222222222,
              "#7201a8"
             ],
             [
              0.3333333333333333,
              "#9c179e"
             ],
             [
              0.4444444444444444,
              "#bd3786"
             ],
             [
              0.5555555555555556,
              "#d8576b"
             ],
             [
              0.6666666666666666,
              "#ed7953"
             ],
             [
              0.7777777777777778,
              "#fb9f3a"
             ],
             [
              0.8888888888888888,
              "#fdca26"
             ],
             [
              1,
              "#f0f921"
             ]
            ],
            "type": "heatmap"
           }
          ],
          "heatmapgl": [
           {
            "colorbar": {
             "outlinewidth": 0,
             "ticks": ""
            },
            "colorscale": [
             [
              0,
              "#0d0887"
             ],
             [
              0.1111111111111111,
              "#46039f"
             ],
             [
              0.2222222222222222,
              "#7201a8"
             ],
             [
              0.3333333333333333,
              "#9c179e"
             ],
             [
              0.4444444444444444,
              "#bd3786"
             ],
             [
              0.5555555555555556,
              "#d8576b"
             ],
             [
              0.6666666666666666,
              "#ed7953"
             ],
             [
              0.7777777777777778,
              "#fb9f3a"
             ],
             [
              0.8888888888888888,
              "#fdca26"
             ],
             [
              1,
              "#f0f921"
             ]
            ],
            "type": "heatmapgl"
           }
          ],
          "histogram": [
           {
            "marker": {
             "pattern": {
              "fillmode": "overlay",
              "size": 10,
              "solidity": 0.2
             }
            },
            "type": "histogram"
           }
          ],
          "histogram2d": [
           {
            "colorbar": {
             "outlinewidth": 0,
             "ticks": ""
            },
            "colorscale": [
             [
              0,
              "#0d0887"
             ],
             [
              0.1111111111111111,
              "#46039f"
             ],
             [
              0.2222222222222222,
              "#7201a8"
             ],
             [
              0.3333333333333333,
              "#9c179e"
             ],
             [
              0.4444444444444444,
              "#bd3786"
             ],
             [
              0.5555555555555556,
              "#d8576b"
             ],
             [
              0.6666666666666666,
              "#ed7953"
             ],
             [
              0.7777777777777778,
              "#fb9f3a"
             ],
             [
              0.8888888888888888,
              "#fdca26"
             ],
             [
              1,
              "#f0f921"
             ]
            ],
            "type": "histogram2d"
           }
          ],
          "histogram2dcontour": [
           {
            "colorbar": {
             "outlinewidth": 0,
             "ticks": ""
            },
            "colorscale": [
             [
              0,
              "#0d0887"
             ],
             [
              0.1111111111111111,
              "#46039f"
             ],
             [
              0.2222222222222222,
              "#7201a8"
             ],
             [
              0.3333333333333333,
              "#9c179e"
             ],
             [
              0.4444444444444444,
              "#bd3786"
             ],
             [
              0.5555555555555556,
              "#d8576b"
             ],
             [
              0.6666666666666666,
              "#ed7953"
             ],
             [
              0.7777777777777778,
              "#fb9f3a"
             ],
             [
              0.8888888888888888,
              "#fdca26"
             ],
             [
              1,
              "#f0f921"
             ]
            ],
            "type": "histogram2dcontour"
           }
          ],
          "mesh3d": [
           {
            "colorbar": {
             "outlinewidth": 0,
             "ticks": ""
            },
            "type": "mesh3d"
           }
          ],
          "parcoords": [
           {
            "line": {
             "colorbar": {
              "outlinewidth": 0,
              "ticks": ""
             }
            },
            "type": "parcoords"
           }
          ],
          "pie": [
           {
            "automargin": true,
            "type": "pie"
           }
          ],
          "scatter": [
           {
            "fillpattern": {
             "fillmode": "overlay",
             "size": 10,
             "solidity": 0.2
            },
            "type": "scatter"
           }
          ],
          "scatter3d": [
           {
            "line": {
             "colorbar": {
              "outlinewidth": 0,
              "ticks": ""
             }
            },
            "marker": {
             "colorbar": {
              "outlinewidth": 0,
              "ticks": ""
             }
            },
            "type": "scatter3d"
           }
          ],
          "scattercarpet": [
           {
            "marker": {
             "colorbar": {
              "outlinewidth": 0,
              "ticks": ""
             }
            },
            "type": "scattercarpet"
           }
          ],
          "scattergeo": [
           {
            "marker": {
             "colorbar": {
              "outlinewidth": 0,
              "ticks": ""
             }
            },
            "type": "scattergeo"
           }
          ],
          "scattergl": [
           {
            "marker": {
             "colorbar": {
              "outlinewidth": 0,
              "ticks": ""
             }
            },
            "type": "scattergl"
           }
          ],
          "scattermapbox": [
           {
            "marker": {
             "colorbar": {
              "outlinewidth": 0,
              "ticks": ""
             }
            },
            "type": "scattermapbox"
           }
          ],
          "scatterpolar": [
           {
            "marker": {
             "colorbar": {
              "outlinewidth": 0,
              "ticks": ""
             }
            },
            "type": "scatterpolar"
           }
          ],
          "scatterpolargl": [
           {
            "marker": {
             "colorbar": {
              "outlinewidth": 0,
              "ticks": ""
             }
            },
            "type": "scatterpolargl"
           }
          ],
          "scatterternary": [
           {
            "marker": {
             "colorbar": {
              "outlinewidth": 0,
              "ticks": ""
             }
            },
            "type": "scatterternary"
           }
          ],
          "surface": [
           {
            "colorbar": {
             "outlinewidth": 0,
             "ticks": ""
            },
            "colorscale": [
             [
              0,
              "#0d0887"
             ],
             [
              0.1111111111111111,
              "#46039f"
             ],
             [
              0.2222222222222222,
              "#7201a8"
             ],
             [
              0.3333333333333333,
              "#9c179e"
             ],
             [
              0.4444444444444444,
              "#bd3786"
             ],
             [
              0.5555555555555556,
              "#d8576b"
             ],
             [
              0.6666666666666666,
              "#ed7953"
             ],
             [
              0.7777777777777778,
              "#fb9f3a"
             ],
             [
              0.8888888888888888,
              "#fdca26"
             ],
             [
              1,
              "#f0f921"
             ]
            ],
            "type": "surface"
           }
          ],
          "table": [
           {
            "cells": {
             "fill": {
              "color": "#EBF0F8"
             },
             "line": {
              "color": "white"
             }
            },
            "header": {
             "fill": {
              "color": "#C8D4E3"
             },
             "line": {
              "color": "white"
             }
            },
            "type": "table"
           }
          ]
         },
         "layout": {
          "annotationdefaults": {
           "arrowcolor": "#2a3f5f",
           "arrowhead": 0,
           "arrowwidth": 1
          },
          "autotypenumbers": "strict",
          "coloraxis": {
           "colorbar": {
            "outlinewidth": 0,
            "ticks": ""
           }
          },
          "colorscale": {
           "diverging": [
            [
             0,
             "#8e0152"
            ],
            [
             0.1,
             "#c51b7d"
            ],
            [
             0.2,
             "#de77ae"
            ],
            [
             0.3,
             "#f1b6da"
            ],
            [
             0.4,
             "#fde0ef"
            ],
            [
             0.5,
             "#f7f7f7"
            ],
            [
             0.6,
             "#e6f5d0"
            ],
            [
             0.7,
             "#b8e186"
            ],
            [
             0.8,
             "#7fbc41"
            ],
            [
             0.9,
             "#4d9221"
            ],
            [
             1,
             "#276419"
            ]
           ],
           "sequential": [
            [
             0,
             "#0d0887"
            ],
            [
             0.1111111111111111,
             "#46039f"
            ],
            [
             0.2222222222222222,
             "#7201a8"
            ],
            [
             0.3333333333333333,
             "#9c179e"
            ],
            [
             0.4444444444444444,
             "#bd3786"
            ],
            [
             0.5555555555555556,
             "#d8576b"
            ],
            [
             0.6666666666666666,
             "#ed7953"
            ],
            [
             0.7777777777777778,
             "#fb9f3a"
            ],
            [
             0.8888888888888888,
             "#fdca26"
            ],
            [
             1,
             "#f0f921"
            ]
           ],
           "sequentialminus": [
            [
             0,
             "#0d0887"
            ],
            [
             0.1111111111111111,
             "#46039f"
            ],
            [
             0.2222222222222222,
             "#7201a8"
            ],
            [
             0.3333333333333333,
             "#9c179e"
            ],
            [
             0.4444444444444444,
             "#bd3786"
            ],
            [
             0.5555555555555556,
             "#d8576b"
            ],
            [
             0.6666666666666666,
             "#ed7953"
            ],
            [
             0.7777777777777778,
             "#fb9f3a"
            ],
            [
             0.8888888888888888,
             "#fdca26"
            ],
            [
             1,
             "#f0f921"
            ]
           ]
          },
          "colorway": [
           "#636efa",
           "#EF553B",
           "#00cc96",
           "#ab63fa",
           "#FFA15A",
           "#19d3f3",
           "#FF6692",
           "#B6E880",
           "#FF97FF",
           "#FECB52"
          ],
          "font": {
           "color": "#2a3f5f"
          },
          "geo": {
           "bgcolor": "white",
           "lakecolor": "white",
           "landcolor": "#E5ECF6",
           "showlakes": true,
           "showland": true,
           "subunitcolor": "white"
          },
          "hoverlabel": {
           "align": "left"
          },
          "hovermode": "closest",
          "mapbox": {
           "style": "light"
          },
          "paper_bgcolor": "white",
          "plot_bgcolor": "#E5ECF6",
          "polar": {
           "angularaxis": {
            "gridcolor": "white",
            "linecolor": "white",
            "ticks": ""
           },
           "bgcolor": "#E5ECF6",
           "radialaxis": {
            "gridcolor": "white",
            "linecolor": "white",
            "ticks": ""
           }
          },
          "scene": {
           "xaxis": {
            "backgroundcolor": "#E5ECF6",
            "gridcolor": "white",
            "gridwidth": 2,
            "linecolor": "white",
            "showbackground": true,
            "ticks": "",
            "zerolinecolor": "white"
           },
           "yaxis": {
            "backgroundcolor": "#E5ECF6",
            "gridcolor": "white",
            "gridwidth": 2,
            "linecolor": "white",
            "showbackground": true,
            "ticks": "",
            "zerolinecolor": "white"
           },
           "zaxis": {
            "backgroundcolor": "#E5ECF6",
            "gridcolor": "white",
            "gridwidth": 2,
            "linecolor": "white",
            "showbackground": true,
            "ticks": "",
            "zerolinecolor": "white"
           }
          },
          "shapedefaults": {
           "line": {
            "color": "#2a3f5f"
           }
          },
          "ternary": {
           "aaxis": {
            "gridcolor": "white",
            "linecolor": "white",
            "ticks": ""
           },
           "baxis": {
            "gridcolor": "white",
            "linecolor": "white",
            "ticks": ""
           },
           "bgcolor": "#E5ECF6",
           "caxis": {
            "gridcolor": "white",
            "linecolor": "white",
            "ticks": ""
           }
          },
          "title": {
           "x": 0.05
          },
          "xaxis": {
           "automargin": true,
           "gridcolor": "white",
           "linecolor": "white",
           "ticks": "",
           "title": {
            "standoff": 15
           },
           "zerolinecolor": "white",
           "zerolinewidth": 2
          },
          "yaxis": {
           "automargin": true,
           "gridcolor": "white",
           "linecolor": "white",
           "ticks": "",
           "title": {
            "standoff": 15
           },
           "zerolinecolor": "white",
           "zerolinewidth": 2
          }
         }
        }
       }
      }
     },
     "metadata": {},
     "output_type": "display_data"
    }
   ],
   "source": [
    "# Parameters\n",
    "N = 50  # Dimension of the lattice, N x N x N\n",
    "temp = 2  # Temperature in units\n",
    "num_steps = 1000  # Number of MC steps\n",
    "\n",
    "config, energy = simulate(N, temp, num_steps)\n",
    "print(f\"Energy: {energy}\")\n",
    "visualize_state_plotly(config)"
   ]
  }
 ],
 "metadata": {
  "kernelspec": {
   "display_name": "base",
   "language": "python",
   "name": "python3"
  },
  "language_info": {
   "codemirror_mode": {
    "name": "ipython",
    "version": 3
   },
   "file_extension": ".py",
   "mimetype": "text/x-python",
   "name": "python",
   "nbconvert_exporter": "python",
   "pygments_lexer": "ipython3",
   "version": "3.10.12"
  }
 },
 "nbformat": 4,
 "nbformat_minor": 2
}
