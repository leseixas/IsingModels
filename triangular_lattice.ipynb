{
 "cells": [
  {
   "cell_type": "code",
   "execution_count": 20,
   "metadata": {},
   "outputs": [
    {
     "data": {
      "image/png": "[encoded data removed]",
      "text/plain": [
       "<Figure size 600x600 with 1 Axes>"
      ]
     },
     "metadata": {},
     "output_type": "display_data"
    }
   ],
   "source": [
    "import numpy as np\n",
    "import matplotlib.pyplot as plt\n",
    "import matplotlib.tri as tri\n",
    "\n",
    "def create_triangular_lattice(N):\n",
    "    \"\"\"\n",
    "    Create coordinates for a triangular lattice with N x N sites.\n",
    "    \n",
    "    Parameters:\n",
    "        N (int): The size of the lattice (N x N).\n",
    "    \n",
    "    Returns:\n",
    "        np.array: Array of coordinates for each lattice point.\n",
    "    \"\"\"\n",
    "    coordinates = []\n",
    "    for i in range(N):\n",
    "        for j in range(N):\n",
    "            # Adjust coordinates to form a triangular grid\n",
    "            x = j + 0.5 * (i % 2)\n",
    "            y = np.sqrt(3) / 2 * i\n",
    "            coordinates.append((x, y))\n",
    "    return np.array(coordinates)\n",
    "\n",
    "def plot_triangular_lattice(coordinates, N):\n",
    "    \"\"\"\n",
    "    Plot a triangular lattice given the coordinates.\n",
    "    \n",
    "    Parameters:\n",
    "        coordinates (np.array): Array of coordinates for the lattice points.\n",
    "        N (int): The size of the lattice.\n",
    "    \"\"\"\n",
    "    # Plotting the points\n",
    "    plt.figure(figsize=(6, 6))\n",
    "    plt.scatter(coordinates[:, 0], coordinates[:, 1], c='k', s=50)\n",
    "    \n",
    "    # # Creating connections (edges) for each point\n",
    "    # # Connect each point to its neighbors to form a triangular lattice\n",
    "    # for i in range(N):\n",
    "    #     for j in range(N):\n",
    "    #         index = i * N + j\n",
    "    #         # Horizontal right connection\n",
    "    #         if j < N - 1:\n",
    "    #             plt.plot(*zip(coordinates[index], coordinates[index + 1]), 'k-')\n",
    "    #         # Vertical connection\n",
    "    #         if i < N - 1:\n",
    "    #             plt.plot(*zip(coordinates[index], coordinates[index + N]), 'k-')\n",
    "            # Diagonal connection\n",
    "            # if i < N - 1 and (i % 2 == 0 and j < N - 1) or (i % 2 == 1 and j > 0):\n",
    "            #     if i % 2 == 0:\n",
    "            #         plt.plot(*zip(coordinates[index], coordinates[index + N + 1]), 'k-')\n",
    "            #     else:\n",
    "            #         plt.plot(*zip(coordinates[index], coordinates[index + N - 1]), 'k-')\n",
    "                \n",
    "    plt.axis('equal')\n",
    "    plt.axis('off')\n",
    "    plt.show()\n",
    "\n",
    "# Example usage:\n",
    "N = 10  # Size of the lattice\n",
    "coords = create_triangular_lattice(N)\n",
    "plot_triangular_lattice(coords, N)\n"
   ]
  }
 ],
 "metadata": {
  "kernelspec": {
   "display_name": "base",
   "language": "python",
   "name": "python3"
  },
  "language_info": {
   "codemirror_mode": {
    "name": "ipython",
    "version": 3
   },
   "file_extension": ".py",
   "mimetype": "text/x-python",
   "name": "python",
   "nbconvert_exporter": "python",
   "pygments_lexer": "ipython3",
   "version": "3.10.12"
  }
 },
 "nbformat": 4,
 "nbformat_minor": 2
}
